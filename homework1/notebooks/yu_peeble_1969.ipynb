{
 "cells": [
  {
   "cell_type": "code",
   "execution_count": 193,
   "metadata": {},
   "outputs": [],
   "source": [
    "import numpy as np\n",
    "import matplotlib.pyplot as plt\n",
    "from scipy.stats import linregress"
   ]
  },
  {
   "cell_type": "markdown",
   "metadata": {},
   "source": [
    "# Uniform"
   ]
  },
  {
   "cell_type": "code",
   "execution_count": 353,
   "metadata": {},
   "outputs": [],
   "source": [
    "N = 1000\n",
    "M = 1000\n",
    "x = np.random.uniform(0, 1, (N, M)) * 2 * np.pi"
   ]
  },
  {
   "cell_type": "code",
   "execution_count": 354,
   "metadata": {},
   "outputs": [],
   "source": [
    "n_max = 200\n",
    "z = np.zeros((n_max, M), dtype=np.complex)\n",
    "for n in range(1, n_max + 1):\n",
    "    z[n-1] = N**(-1/2) * np.exp(1j * n * x).sum(axis=0)"
   ]
  },
  {
   "cell_type": "code",
   "execution_count": 355,
   "metadata": {},
   "outputs": [
    {
     "data": {
      "text/plain": [
       "(array([ 5., 10., 15., 44., 35., 37., 25., 14., 10.,  5.]),\n",
       " array([-1.74016148, -1.38184279, -1.02352411, -0.66520542, -0.30688674,\n",
       "         0.05143195,  0.40975063,  0.76806932,  1.126388  ,  1.48470669,\n",
       "         1.84302537]),\n",
       " <BarContainer object of 10 artists>)"
      ]
     },
     "execution_count": 355,
     "metadata": {},
     "output_type": "execute_result"
    },
    {
     "data": {
      "image/png": "[encoded data removed]",
      "text/plain": [
       "<Figure size 432x288 with 1 Axes>"
      ]
     },
     "metadata": {
      "needs_background": "light"
     },
     "output_type": "display_data"
    }
   ],
   "source": [
    "plt.hist(np.real(z)[:, 0])"
   ]
  },
  {
   "cell_type": "code",
   "execution_count": 356,
   "metadata": {},
   "outputs": [
    {
     "data": {
      "text/plain": [
       "(array([ 1.,  4., 16., 18., 39., 49., 41., 18., 10.,  4.]),\n",
       " array([-2.13127906, -1.733937  , -1.33659494, -0.93925288, -0.54191082,\n",
       "        -0.14456876,  0.2527733 ,  0.65011536,  1.04745742,  1.44479948,\n",
       "         1.84214154]),\n",
       " <BarContainer object of 10 artists>)"
      ]
     },
     "execution_count": 356,
     "metadata": {},
     "output_type": "execute_result"
    },
    {
     "data": {
      "image/png": "[encoded data removed]",
      "text/plain": [
       "<Figure size 432x288 with 1 Axes>"
      ]
     },
     "metadata": {
      "needs_background": "light"
     },
     "output_type": "display_data"
    }
   ],
   "source": [
    "plt.hist(np.imag(z)[:, 0])"
   ]
  },
  {
   "cell_type": "code",
   "execution_count": 357,
   "metadata": {},
   "outputs": [
    {
     "data": {
      "text/plain": [
       "1.000647776085917"
      ]
     },
     "execution_count": 357,
     "metadata": {},
     "output_type": "execute_result"
    }
   ],
   "source": [
    "# square of the fourier coefficient tends to 1\n",
    "(np.abs(z)**2).mean(axis=1).mean()"
   ]
  },
  {
   "cell_type": "code",
   "execution_count": 360,
   "metadata": {},
   "outputs": [
    {
     "data": {
      "text/plain": [
       "(0.0008251340292636493-0.0007559799792350524j)"
      ]
     },
     "execution_count": 360,
     "metadata": {},
     "output_type": "execute_result"
    }
   ],
   "source": [
    "# Fourier coefficient tends to 0\n",
    "z.mean(axis=1).mean()"
   ]
  },
  {
   "cell_type": "markdown",
   "metadata": {},
   "source": [
    "## Power spectra\n",
    "\n",
    "Should follow an exponential distribution\n",
    "$$\n",
    "    P(|z^2| > x) = e^{-x}\n",
    "$$"
   ]
  },
  {
   "cell_type": "code",
   "execution_count": 361,
   "metadata": {},
   "outputs": [
    {
     "data": {
      "text/plain": [
       "<matplotlib.legend.Legend at 0x7fd170b59490>"
      ]
     },
     "execution_count": 361,
     "metadata": {},
     "output_type": "execute_result"
    },
    {
     "data": {
      "image/png": "[encoded data removed]",
      "text/plain": [
       "<Figure size 432x288 with 1 Axes>"
      ]
     },
     "metadata": {
      "needs_background": "light"
     },
     "output_type": "display_data"
    }
   ],
   "source": [
    "n = 199 # fourier coefficient\n",
    "length_x = 50\n",
    "power_spectra = (np.abs(z)**2)\n",
    "# estimate of the probability\n",
    "x = np.linspace(0, 2 * np.pi, length_x)\n",
    "p = np.zeros(length_x)\n",
    "for i, x_i in enumerate(x):\n",
    "    p[i] = np.sum(power_spectra[n] > x_i) / power_spectra[n].size\n",
    "\n",
    "# x = np.linspace(0, 8, 100)\n",
    "# plt.hist(power_spectra, density=True)\n",
    "plt.title(\"Poisson process\")\n",
    "plt.plot(x, p, label=\"Simulation\")\n",
    "plt.plot(x, np.exp(-x), label=r\"$e^{-x}$\")\n",
    "plt.ylabel(r\"$P(|z^2| > x)$\")\n",
    "plt.xlabel(r\"$x$\")\n",
    "plt.yscale(\"log\")\n",
    "plt.legend()"
   ]
  },
  {
   "cell_type": "code",
   "execution_count": 366,
   "metadata": {},
   "outputs": [
    {
     "data": {
      "text/plain": [
       "0.991157187123239"
      ]
     },
     "execution_count": 366,
     "metadata": {},
     "output_type": "execute_result"
    }
   ],
   "source": [
    "(np.var(power_spectra, axis=0) / np.mean(power_spectra, axis=0)).mean()"
   ]
  },
  {
   "cell_type": "markdown",
   "metadata": {},
   "source": [
    "# Clustered\n",
    "\n",
    "Instead of a uniform distribution, we place $N_c$ points around each cluster ($c$ in number).\n",
    "\n",
    "When the point are clustered and the wavelength $\\lambda_c = 2\\pi/n \\gg L_c$, the length of the clusters, than the ensemble average value of $|z_n|^2$ becomes\n",
    "$$\n",
    "    P(|z_n|^2 > x) = e^{-x/N_c}\n",
    "$$\n",
    "On the other hand, when $\\lambda_n \\ll L_c$, the result should be completely equivalent to the random case."
   ]
  },
  {
   "cell_type": "code",
   "execution_count": 656,
   "metadata": {},
   "outputs": [],
   "source": [
    "N = 1000\n",
    "N_c = 200 # points per clusters\n",
    "c = N//N_c\n",
    "r = 0.05 # radius of the cluster\n",
    "clusters = np.random.uniform(0, 1, (c, M)) * 2 * np.pi\n",
    "x = np.zeros((N, M))\n",
    "for _c in range(1, c + 1):\n",
    "    j = (_c - 1) * N_c\n",
    "    x[j: j + N_c] = clusters[_c-1] +np.random.normal(0, r, (N_c, M))#+ np.random.uniform(-r, r, (N_c, M)) # +np.random.normal(0, r, (N_c, M))"
   ]
  },
  {
   "cell_type": "code",
   "execution_count": 657,
   "metadata": {},
   "outputs": [],
   "source": [
    "n_max = 1000\n",
    "z = np.zeros((n_max, M), dtype=np.complex)\n",
    "for i, n in enumerate(range(1, n_max + 1)):\n",
    "    z[i] = N**(-1/2) * np.exp(1j * n * x).sum(axis=0)"
   ]
  },
  {
   "cell_type": "code",
   "execution_count": 658,
   "metadata": {},
   "outputs": [],
   "source": [
    "power_spectra = np.abs(z)**2"
   ]
  },
  {
   "cell_type": "code",
   "execution_count": 659,
   "metadata": {},
   "outputs": [
    {
     "data": {
      "text/plain": [
       "[<matplotlib.lines.Line2D at 0x7fd16a174220>]"
      ]
     },
     "execution_count": 659,
     "metadata": {},
     "output_type": "execute_result"
    },
    {
     "data": {
      "image/png": "[encoded data removed]",
      "text/plain": [
       "<Figure size 432x288 with 1 Axes>"
      ]
     },
     "metadata": {
      "needs_background": "light"
     },
     "output_type": "display_data"
    }
   ],
   "source": [
    "# square of the fourier coefficient tends to N_c\n",
    "plt.plot(power_spectra.mean(axis=1))"
   ]
  },
  {
   "cell_type": "code",
   "execution_count": 660,
   "metadata": {},
   "outputs": [
    {
     "data": {
      "text/plain": [
       "(-0.0023325433579067406+0.0005531874505493523j)"
      ]
     },
     "execution_count": 660,
     "metadata": {},
     "output_type": "execute_result"
    }
   ],
   "source": [
    "# Fourier coefficient tends to 0\n",
    "z.mean(axis=1).mean()"
   ]
  },
  {
   "cell_type": "code",
   "execution_count": 661,
   "metadata": {},
   "outputs": [],
   "source": [
    "length_x = 50\n",
    "# estimate of the probability\n",
    "x = np.linspace(0, 2 * np.pi, length_x)\n",
    "p = np.zeros((length_x, n_max))\n",
    "m = []\n",
    "for j, _n in enumerate(range(1, n_max + 1)):\n",
    "    for i, x_i in enumerate(x):\n",
    "        p[i, j] = np.sum(power_spectra[j] > x_i) / power_spectra[j].size\n",
    "    slope, intercept, r_value, p_value, std_err = linregress(x,np.log(p[:, j] + 1e-8))\n",
    "    m.append(slope)"
   ]
  },
  {
   "cell_type": "code",
   "execution_count": 662,
   "metadata": {},
   "outputs": [
    {
     "data": {
      "text/plain": [
       "<matplotlib.legend.Legend at 0x7fd16a0e0850>"
      ]
     },
     "execution_count": 662,
     "metadata": {},
     "output_type": "execute_result"
    },
    {
     "data": {
      "image/png": "[encoded data removed]",
      "text/plain": [
       "<Figure size 432x288 with 1 Axes>"
      ]
     },
     "metadata": {
      "needs_background": "light"
     },
     "output_type": "display_data"
    }
   ],
   "source": [
    "n = 1\n",
    "\n",
    "# x = np.linspace(0, 8, 100)\n",
    "# plt.hist(power_spectra, density=True)\n",
    "plt.title(fr\"Poisson process, N_c={N_c} and $\\lambda_n \\gg L_c$\")\n",
    "plt.plot(x, p[:, n], label=\"Simulation\")\n",
    "plt.plot(x, np.exp(-x / N_c), label=r\"$e^{-x/N_c}$\")\n",
    "plt.ylabel(fr\"$P(|z_n|^2 > x)$, n={n}\")\n",
    "plt.xlabel(r\"$x$\")\n",
    "# plt.yscale(\"log\")\n",
    "plt.legend()"
   ]
  },
  {
   "cell_type": "code",
   "execution_count": 663,
   "metadata": {},
   "outputs": [
    {
     "data": {
      "text/plain": [
       "<matplotlib.lines.Line2D at 0x7fd169fc0880>"
      ]
     },
     "execution_count": 663,
     "metadata": {},
     "output_type": "execute_result"
    },
    {
     "data": {
      "image/png": "[encoded data removed]",
      "text/plain": [
       "<Figure size 432x288 with 1 Axes>"
      ]
     },
     "metadata": {
      "needs_background": "light"
     },
     "output_type": "display_data"
    }
   ],
   "source": [
    "lam = 2 * np.pi / np.array(range(1, n_max+1))\n",
    "plt.plot(lam, np.array(m))\n",
    "plt.xlabel(r\"$\\lambda_n$\")\n",
    "plt.ylabel(\"Slope\")\n",
    "plt.xscale(\"log\")\n",
    "plt.axvline(2 * r, ls=\"-\", color=\"k\")\n",
    "# plt.axvline(16/11 * r, ls=\"--\", color=\"r\")\n",
    "plt.axvline(r, ls=\"-\", color=\"k\")\n",
    "# plt.axvline(9/11 * r, ls=\"--\", color=\"k\")\n",
    "plt.axvline(2/3 * r, ls=\"-\", color=\"k\")\n",
    "plt.axvline(1/2 * r, ls=\"-\", color=\"k\")\n",
    "plt.axvline(2/5 * r, ls=\"-\", color=\"k\")\n",
    "# plt.axvline(4/9 * r, ls=\"--\", color=\"k\")\n",
    "plt.axvline(7/21 * r, ls=\"-\", color=\"k\")\n",
    "# plt.axvline(4/13 * r, ls=\"--\", color=\"k\")\n",
    "plt.axvline(6/21 * r, ls=\"-\", color=\"k\")\n",
    "\n",
    "# plt.axvline(3/11 * r, ls=\"-\", color=\"r\")\n",
    "\n",
    "# plt.axvline(1/5 * r, ls=\"-\", color=\"k\")\n",
    "plt.axhline(-1/N_c, ls=\"--\", color=\"k\")\n",
    "# structure appear only when cluster have uniform distribution!"
   ]
  },
  {
   "cell_type": "markdown",
   "metadata": {},
   "source": [
    "As we can see, the slope becomes 1 (uniform distribution), when the wavelength is of the order of the standard deviation (black line)"
   ]
  },
  {
   "cell_type": "markdown",
   "metadata": {},
   "source": [
    "## Measure of clustering\n",
    "\n",
    "$$\n",
    "    r = \\frac{\\sigma^2_N}{\\mathbb{E}[N]}\n",
    "$$\n",
    "Greater than 1 means the data is heavily clustered. Less than one means the data is anti-clustered, or spread. Equal to one is the null hypothesis (poisson process)."
   ]
  },
  {
   "cell_type": "code",
   "execution_count": 377,
   "metadata": {},
   "outputs": [
    {
     "data": {
      "text/plain": [
       "104.5242870458002"
      ]
     },
     "execution_count": 377,
     "metadata": {},
     "output_type": "execute_result"
    }
   ],
   "source": [
    "(np.var(power_spectra, axis=0) / np.mean(power_spectra, axis=0)).mean()"
   ]
  },
  {
   "cell_type": "code",
   "execution_count": null,
   "metadata": {},
   "outputs": [],
   "source": []
  }
 ],
 "metadata": {
  "kernelspec": {
   "display_name": "Python 3",
   "language": "python",
   "name": "python3"
  },
  "language_info": {
   "codemirror_mode": {
    "name": "ipython",
    "version": 3
   },
   "file_extension": ".py",
   "mimetype": "text/x-python",
   "name": "python",
   "nbconvert_exporter": "python",
   "pygments_lexer": "ipython3",
   "version": "3.8.5"
  }
 },
 "nbformat": 4,
 "nbformat_minor": 4
}
