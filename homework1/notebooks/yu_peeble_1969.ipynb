{
 "cells": [
  {
   "cell_type": "code",
   "execution_count": 59,
   "metadata": {},
   "outputs": [],
   "source": [
    "import numpy as np\n",
    "import matplotlib.pyplot as plt"
   ]
  },
  {
   "cell_type": "code",
   "execution_count": 111,
   "metadata": {},
   "outputs": [],
   "source": [
    "N = 1000\n",
    "M = 1000\n",
    "x = np.random.uniform(0, 1, (N, M)) * 2 * np.pi"
   ]
  },
  {
   "cell_type": "code",
   "execution_count": 120,
   "metadata": {},
   "outputs": [],
   "source": [
    "n_max = 200\n",
    "z = np.zeros((n_max, M), dtype=np.complex)\n",
    "for n in range(1, n_max + 1):\n",
    "    z[n-1] = N**(-1/2) * np.exp(1j * n * x).sum(axis=0)"
   ]
  },
  {
   "cell_type": "code",
   "execution_count": 121,
   "metadata": {},
   "outputs": [
    {
     "data": {
      "text/plain": [
       "(array([ 7., 10., 15., 31., 36., 34., 33., 19., 10.,  5.]),\n",
       " array([-1.67682125, -1.349707  , -1.02259276, -0.69547852, -0.36836428,\n",
       "        -0.04125004,  0.2858642 ,  0.61297844,  0.94009268,  1.26720692,\n",
       "         1.59432116]),\n",
       " <BarContainer object of 10 artists>)"
      ]
     },
     "execution_count": 121,
     "metadata": {},
     "output_type": "execute_result"
    },
    {
     "data": {
      "image/png": "[encoded data removed]",
      "text/plain": [
       "<Figure size 432x288 with 1 Axes>"
      ]
     },
     "metadata": {
      "needs_background": "light"
     },
     "output_type": "display_data"
    }
   ],
   "source": [
    "plt.hist(np.real(z)[:, 0])"
   ]
  },
  {
   "cell_type": "code",
   "execution_count": 122,
   "metadata": {},
   "outputs": [
    {
     "data": {
      "text/plain": [
       "(array([12., 13., 17., 33., 41., 39., 24.,  9., 10.,  2.]),\n",
       " array([-1.61255267, -1.24846725, -0.88438183, -0.52029641, -0.15621099,\n",
       "         0.20787443,  0.57195985,  0.93604527,  1.30013069,  1.66421611,\n",
       "         2.02830154]),\n",
       " <BarContainer object of 10 artists>)"
      ]
     },
     "execution_count": 122,
     "metadata": {},
     "output_type": "execute_result"
    },
    {
     "data": {
      "image/png": "[encoded data removed]",
      "text/plain": [
       "<Figure size 432x288 with 1 Axes>"
      ]
     },
     "metadata": {
      "needs_background": "light"
     },
     "output_type": "display_data"
    }
   ],
   "source": [
    "plt.hist(np.imag(z)[:, 0])"
   ]
  },
  {
   "cell_type": "code",
   "execution_count": 127,
   "metadata": {},
   "outputs": [
    {
     "data": {
      "text/plain": [
       "0.9962684538191826"
      ]
     },
     "execution_count": 127,
     "metadata": {},
     "output_type": "execute_result"
    }
   ],
   "source": [
    "# square of the fourier coefficient tends to 1\n",
    "(np.abs(z)**2).mean(axis=1).mean()"
   ]
  },
  {
   "cell_type": "code",
   "execution_count": 129,
   "metadata": {},
   "outputs": [
    {
     "data": {
      "text/plain": [
       "(0.0008104214714404462+0.0009673826636735145j)"
      ]
     },
     "execution_count": 129,
     "metadata": {},
     "output_type": "execute_result"
    }
   ],
   "source": [
    "# Fourier coefficient tends to 0\n",
    "z.mean(axis=1).mean()"
   ]
  },
  {
   "cell_type": "code",
   "execution_count": 135,
   "metadata": {},
   "outputs": [
    {
     "data": {
      "text/plain": [
       "(array([555., 257., 101.,  55.,  14.,   7.,   5.,   4.,   0.,   2.]),\n",
       " array([1.49978394e-04, 8.09698356e-01, 1.61924673e+00, 2.42879511e+00,\n",
       "        3.23834349e+00, 4.04789187e+00, 4.85744025e+00, 5.66698862e+00,\n",
       "        6.47653700e+00, 7.28608538e+00, 8.09563376e+00]),\n",
       " <BarContainer object of 10 artists>)"
      ]
     },
     "execution_count": 135,
     "metadata": {},
     "output_type": "execute_result"
    },
    {
     "data": {
      "image/png": "[encoded data removed]",
      "text/plain": [
       "<Figure size 432x288 with 1 Axes>"
      ]
     },
     "metadata": {
      "needs_background": "light"
     },
     "output_type": "display_data"
    }
   ],
   "source": [
    "power_spectra = (np.abs(z)**2)[1]\n",
    "plt.hist(power_spectra)"
   ]
  },
  {
   "cell_type": "code",
   "execution_count": null,
   "metadata": {},
   "outputs": [],
   "source": []
  }
 ],
 "metadata": {
  "kernelspec": {
   "display_name": "Python 3",
   "language": "python",
   "name": "python3"
  },
  "language_info": {
   "codemirror_mode": {
    "name": "ipython",
    "version": 3
   },
   "file_extension": ".py",
   "mimetype": "text/x-python",
   "name": "python",
   "nbconvert_exporter": "python",
   "pygments_lexer": "ipython3",
   "version": "3.8.5"
  }
 },
 "nbformat": 4,
 "nbformat_minor": 4
}
