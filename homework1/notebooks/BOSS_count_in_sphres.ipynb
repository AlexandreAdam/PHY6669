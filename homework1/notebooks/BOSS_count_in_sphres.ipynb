{
 "cells": [
  {
   "cell_type": "code",
   "execution_count": 2,
   "metadata": {},
   "outputs": [],
   "source": [
    "import numpy as np\n",
    "import matplotlib.pyplot as plt\n",
    "from astropy.cosmology import FlatLambdaCDM\n",
    "import pandas as pd\n",
    "import os\n",
    "from tqdm import tqdm\n",
    "from sklearn.neighbors import KDTree\n",
    "from numba import jit\n",
    "from scipy.stats import gaussian_kde"
   ]
  },
  {
   "cell_type": "code",
   "execution_count": 139,
   "metadata": {},
   "outputs": [],
   "source": [
    "def redshift_kde_weights(z):\n",
    "    kde = gaussian_kde(z)\n",
    "    w = 1/kde.evaluate(z)\n",
    "    return w, kde\n",
    "\n",
    "def redshift_weigth(z, bins=100):\n",
    "    _bins = pd.cut(z, bins=np.linspace(z.min(), z.max() + 1, bins))\n",
    "    w = z.map(1/z.groupby(_bins).sum()) \n",
    "    return w.to_numpy()\n"
   ]
  },
  {
   "cell_type": "code",
   "execution_count": 140,
   "metadata": {},
   "outputs": [],
   "source": [
    "def spherical_to_cartesian(r, theta, phi):\n",
    "    x = r * np.sin(theta) * np.cos(phi)\n",
    "    y = r * np.sin(theta) * np.sin(phi)\n",
    "    z = r * np.cos(theta)\n",
    "    return x, y, z"
   ]
  },
  {
   "cell_type": "code",
   "execution_count": 141,
   "metadata": {},
   "outputs": [],
   "source": [
    "def cone_synthetic_catalogue(kde, theta, phi, N):\n",
    "    \"\"\"\n",
    "    Generate a synthetic catalogue with N object from a uniform density field\n",
    "    \"\"\"\n",
    "    r_rand = kde.resample(N)[0]\n",
    "#     r_rand = np.random.uniform(r.min(), r.max(), N)\n",
    "    theta_rand = np.random.uniform(theta.min(), theta.max(), N)\n",
    "    phi_rand = np.random.uniform(phi.min(), phi.max(), N)\n",
    "    return r_rand, theta_rand, phi_rand"
   ]
  },
  {
   "cell_type": "code",
   "execution_count": 142,
   "metadata": {},
   "outputs": [],
   "source": [
    "def center_selection(r, theta, phi, fraction):\n",
    "    theta_center = (theta.max() + theta.min())/2\n",
    "    phi_center = (phi.max() + phi.min())/2\n",
    "    out = theta < (theta.max() + theta_center) * fraction\n",
    "    out *= theta > (theta_center + theta.min()) * fraction\n",
    "    out *= phi < (phi.max() + phi_center) * fraction\n",
    "    out *= phi > (phi_center + phi.min()) * fraction\n",
    "    return out\n"
   ]
  },
  {
   "cell_type": "code",
   "execution_count": 143,
   "metadata": {},
   "outputs": [],
   "source": [
    "@jit\n",
    "def brute_force(positions, weights):\n",
    "    N = positions.shape[0]\n",
    "    size = N * (N - 1) //2\n",
    "    pair_distance = np.zeros(size)\n",
    "    w = np.zeros_like(pair_distance)\n",
    "    k = 0\n",
    "    for i in range(N):\n",
    "        for j in range(i + 1, N):\n",
    "            d = positions[i] - positions[j]\n",
    "            pair_distance[k] = np.sqrt(np.dot(d, d))\n",
    "            w[k] = weights[i]\n",
    "            k += 1\n",
    "    w /= w.sum()\n",
    "    return pair_distance, w"
   ]
  },
  {
   "cell_type": "code",
   "execution_count": 170,
   "metadata": {},
   "outputs": [],
   "source": [
    "h = 0.72\n",
    "Omega_m = 0.3\n",
    "data_path = \"../../data/Skyserver_SQL1_20_2021 12 59 33 AM.csv\"\n",
    "fraction = 0.3\n",
    "cone_selection = 0.4\n",
    "bins = np.linspace(20, 300, 200)\n",
    "\n",
    "cosmo = FlatLambdaCDM(70 * h, Omega_m)\n",
    "data = pd.read_csv(data_path, skiprows=1)\n",
    "# preprocessing \n",
    "data = data[(data[\"Spec_redshift\"] > 1e-4) & (data[\"Spec_redshift\"] < 1)]\n",
    "\n",
    "M = int(fraction * len(data)) # sample size\n",
    "if fraction < 1:\n",
    "    indexes = np.random.choice(range(len(data)), size=M, replace=False)\n",
    "    data = data.iloc[indexes, :]\n",
    "\n",
    "# weights = redshift_weigth(data[\"Spec_redshift\"])\n",
    "r = cosmo.comoving_distance(data[\"Spec_redshift\"].to_numpy()).value # remove unit to accelerate compute speed\n",
    "theta = np.deg2rad(data[\"dec\"]).to_numpy()\n",
    "phi = np.deg2rad(data[\"ra\"]).to_numpy()"
   ]
  },
  {
   "cell_type": "code",
   "execution_count": 171,
   "metadata": {},
   "outputs": [],
   "source": [
    "kde = gaussian_kde(r)\n",
    "weights = 1/kde.evaluate(r)\n",
    "x, y, z = spherical_to_cartesian(r, theta, phi)\n",
    "positions = np.column_stack([x, y, z])\n",
    "\n",
    "N = r.size\n",
    "N_r = r.size# number of galaxies in the catalogue\n",
    "r_rand, theta_rand, phi_rand = cone_synthetic_catalogue(kde, theta, phi, N_r)\n",
    "positions_rand = np.column_stack(spherical_to_cartesian(r_rand, theta_rand, phi_rand))\n",
    "weights_rand = 1/kde.evaluate(r_rand)"
   ]
  },
  {
   "cell_type": "code",
   "execution_count": 188,
   "metadata": {},
   "outputs": [
    {
     "name": "stdout",
     "output_type": "stream",
     "text": [
      "using brute_force method\n"
     ]
    }
   ],
   "source": [
    "print(\"using brute_force method\")\n",
    "pair_distance, w = brute_force(positions, weights)\n",
    "pair_distance_rand, wr = brute_force(positions_rand, weights_rand)\n",
    "count, distance = np.histogram(pair_distance, bins=bins, weights=w, density=True)\n",
    "count_rand, distance_rand = np.histogram(pair_distance_rand, \n",
    "                                         bins=bins, weights=None, density=True)\n",
    "\n",
    "# transform count into cumulative sum\n",
    "cum_count = np.cumsum(count)\n",
    "cum_count_rand = np.cumsum(count_rand)\n",
    "# get bin centers\n",
    "distance = (distance[1:] + distance[:-1])/2\n",
    "N_cal = cum_count / cum_count_rand\n"
   ]
  },
  {
   "cell_type": "code",
   "execution_count": 189,
   "metadata": {},
   "outputs": [
    {
     "data": {
      "text/plain": [
       "Text(0, 0.5, '$\\\\xi(r)$')"
      ]
     },
     "execution_count": 189,
     "metadata": {},
     "output_type": "execute_result"
    },
    {
     "data": {
      "image/png": "[encoded data removed]",
      "text/plain": [
       "<Figure size 432x432 with 1 Axes>"
      ]
     },
     "metadata": {
      "needs_background": "light"
     },
     "output_type": "display_data"
    }
   ],
   "source": [
    "plt.style.use(\"science\")\n",
    "plt.figure(figsize=(6, 6))\n",
    "xi = count / count_rand - 1\n",
    "plt.plot(distance, xi)\n",
    "plt.axhline(0, color=\"k\")\n",
    "plt.xlabel(r\"$r$ [Mpc]\")\n",
    "plt.ylabel(r\"$\\xi(r)$\")\n",
    "# plt.xscale(\"log\")"
   ]
  },
  {
   "cell_type": "code",
   "execution_count": 126,
   "metadata": {},
   "outputs": [
    {
     "name": "stderr",
     "output_type": "stream",
     "text": [
      "  4%|▍         | 8/200 [00:00<00:02, 77.16it/s]"
     ]
    },
    {
     "name": "stdout",
     "output_type": "stream",
     "text": [
      "using kdtree method\n"
     ]
    },
    {
     "name": "stderr",
     "output_type": "stream",
     "text": [
      "100%|██████████| 200/200 [00:05<00:00, 37.80it/s]\n"
     ]
    }
   ],
   "source": [
    "print(\"using kdtree method\")\n",
    "kd = KDTree(positions, leaf_size=40)\n",
    "kd_r = KDTree(positions_rand, leaf_size=40)\n",
    "\n",
    "# take as center only a portion of the cone\n",
    "\n",
    "distances = np.linspace(10, 200, 200)\n",
    "N_cat = np.zeros_like(distances)\n",
    "N_rand = np.zeros_like(distances)\n",
    "for i, d in enumerate(tqdm(distances)):\n",
    "    N_cat[i] = (kd.query_radius(positions, d, count_only=True) * weights).sum()/weights.sum()\n",
    "    N_rand[i] = kd_r.query_radius(positions_rand, d, count_only=True).mean()\n",
    "    \n",
    "N_cal = N_cat / N_rand"
   ]
  },
  {
   "cell_type": "code",
   "execution_count": 117,
   "metadata": {},
   "outputs": [
    {
     "data": {
      "text/plain": [
       "Text(0, 0.5, '$\\\\xi(r)$')"
      ]
     },
     "execution_count": 117,
     "metadata": {},
     "output_type": "execute_result"
    },
    {
     "data": {
      "image/png": "[encoded data removed]",
      "text/plain": [
       "<Figure size 432x432 with 1 Axes>"
      ]
     },
     "metadata": {
      "needs_background": "light"
     },
     "output_type": "display_data"
    }
   ],
   "source": [
    "plt.style.use(\"science\")\n",
    "plt.figure(figsize=(6, 6))\n",
    "xi = N_cal- 1\n",
    "plt.plot(distances, xi)\n",
    "plt.axhline(0, color=\"k\")\n",
    "plt.xlabel(r\"$r$ [Mpc]\")\n",
    "plt.ylabel(r\"$\\xi(r)$\")\n",
    "# plt.xscale(\"log\")"
   ]
  },
  {
   "cell_type": "code",
   "execution_count": null,
   "metadata": {},
   "outputs": [],
   "source": []
  }
 ],
 "metadata": {
  "kernelspec": {
   "display_name": "Python 3",
   "language": "python",
   "name": "python3"
  },
  "language_info": {
   "codemirror_mode": {
    "name": "ipython",
    "version": 3
   },
   "file_extension": ".py",
   "mimetype": "text/x-python",
   "name": "python",
   "nbconvert_exporter": "python",
   "pygments_lexer": "ipython3",
   "version": "3.8.5"
  }
 },
 "nbformat": 4,
 "nbformat_minor": 4
}
