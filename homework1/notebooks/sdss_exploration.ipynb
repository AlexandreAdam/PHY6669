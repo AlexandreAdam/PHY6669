{
 "cells": [
  {
   "cell_type": "code",
   "execution_count": 182,
   "metadata": {},
   "outputs": [],
   "source": [
    "import numpy as np\n",
    "import pandas as pd\n",
    "import seaborn as sns\n",
    "import astropy.units as u\n",
    "from astropy.constants import c\n",
    "from scipy import stats\n",
    "%matplotlib inline"
   ]
  },
  {
   "cell_type": "code",
   "execution_count": 183,
   "metadata": {},
   "outputs": [],
   "source": [
    "datapath = \"../../data/Skyserver_SQL1_20_2021 12 59 33 AM.csv\"\n",
    "data = pd.read_csv(datapath, skiprows=1)"
   ]
  },
  {
   "cell_type": "code",
   "execution_count": 184,
   "metadata": {},
   "outputs": [
    {
     "data": {
      "text/html": [
       "<div>\n",
       "<style scoped>\n",
       "    .dataframe tbody tr th:only-of-type {\n",
       "        vertical-align: middle;\n",
       "    }\n",
       "\n",
       "    .dataframe tbody tr th {\n",
       "        vertical-align: top;\n",
       "    }\n",
       "\n",
       "    .dataframe thead th {\n",
       "        text-align: right;\n",
       "    }\n",
       "</style>\n",
       "<table border=\"1\" class=\"dataframe\">\n",
       "  <thead>\n",
       "    <tr style=\"text-align: right;\">\n",
       "      <th></th>\n",
       "      <th>objid</th>\n",
       "      <th>ra</th>\n",
       "      <th>dec</th>\n",
       "      <th>u</th>\n",
       "      <th>g</th>\n",
       "      <th>r</th>\n",
       "      <th>i</th>\n",
       "      <th>z</th>\n",
       "      <th>class</th>\n",
       "      <th>Spec_redshift</th>\n",
       "      <th>Photo_redshift</th>\n",
       "    </tr>\n",
       "  </thead>\n",
       "  <tbody>\n",
       "    <tr>\n",
       "      <th>0</th>\n",
       "      <td>1237664336634773797</td>\n",
       "      <td>156.083375</td>\n",
       "      <td>32.709000</td>\n",
       "      <td>24.98781</td>\n",
       "      <td>22.64577</td>\n",
       "      <td>20.85607</td>\n",
       "      <td>20.01825</td>\n",
       "      <td>19.53245</td>\n",
       "      <td>GALAXY</td>\n",
       "      <td>0.447654</td>\n",
       "      <td>0.471256</td>\n",
       "    </tr>\n",
       "    <tr>\n",
       "      <th>1</th>\n",
       "      <td>1237664336634839202</td>\n",
       "      <td>156.296235</td>\n",
       "      <td>32.672318</td>\n",
       "      <td>22.44163</td>\n",
       "      <td>19.40266</td>\n",
       "      <td>17.98819</td>\n",
       "      <td>17.47593</td>\n",
       "      <td>17.11373</td>\n",
       "      <td>GALAXY</td>\n",
       "      <td>0.238772</td>\n",
       "      <td>0.231899</td>\n",
       "    </tr>\n",
       "    <tr>\n",
       "      <th>2</th>\n",
       "      <td>1237665015235543789</td>\n",
       "      <td>157.010907</td>\n",
       "      <td>30.688310</td>\n",
       "      <td>22.82454</td>\n",
       "      <td>22.78598</td>\n",
       "      <td>21.28844</td>\n",
       "      <td>20.26129</td>\n",
       "      <td>19.61507</td>\n",
       "      <td>GALAXY</td>\n",
       "      <td>0.553255</td>\n",
       "      <td>0.574192</td>\n",
       "    </tr>\n",
       "    <tr>\n",
       "      <th>3</th>\n",
       "      <td>1237665015235608766</td>\n",
       "      <td>157.034266</td>\n",
       "      <td>30.810887</td>\n",
       "      <td>22.83281</td>\n",
       "      <td>20.49039</td>\n",
       "      <td>19.13832</td>\n",
       "      <td>18.58947</td>\n",
       "      <td>18.13461</td>\n",
       "      <td>GALAXY</td>\n",
       "      <td>0.239355</td>\n",
       "      <td>0.265097</td>\n",
       "    </tr>\n",
       "    <tr>\n",
       "      <th>4</th>\n",
       "      <td>1237665015235608803</td>\n",
       "      <td>157.100967</td>\n",
       "      <td>30.820288</td>\n",
       "      <td>22.02535</td>\n",
       "      <td>19.97694</td>\n",
       "      <td>18.64904</td>\n",
       "      <td>18.13601</td>\n",
       "      <td>17.78678</td>\n",
       "      <td>GALAXY</td>\n",
       "      <td>0.242969</td>\n",
       "      <td>0.225843</td>\n",
       "    </tr>\n",
       "  </tbody>\n",
       "</table>\n",
       "</div>"
      ],
      "text/plain": [
       "                 objid          ra        dec         u         g         r  \\\n",
       "0  1237664336634773797  156.083375  32.709000  24.98781  22.64577  20.85607   \n",
       "1  1237664336634839202  156.296235  32.672318  22.44163  19.40266  17.98819   \n",
       "2  1237665015235543789  157.010907  30.688310  22.82454  22.78598  21.28844   \n",
       "3  1237665015235608766  157.034266  30.810887  22.83281  20.49039  19.13832   \n",
       "4  1237665015235608803  157.100967  30.820288  22.02535  19.97694  18.64904   \n",
       "\n",
       "          i         z   class  Spec_redshift  Photo_redshift  \n",
       "0  20.01825  19.53245  GALAXY       0.447654        0.471256  \n",
       "1  17.47593  17.11373  GALAXY       0.238772        0.231899  \n",
       "2  20.26129  19.61507  GALAXY       0.553255        0.574192  \n",
       "3  18.58947  18.13461  GALAXY       0.239355        0.265097  \n",
       "4  18.13601  17.78678  GALAXY       0.242969        0.225843  "
      ]
     },
     "execution_count": 184,
     "metadata": {},
     "output_type": "execute_result"
    }
   ],
   "source": [
    "data.head()"
   ]
  },
  {
   "cell_type": "code",
   "execution_count": 185,
   "metadata": {},
   "outputs": [
    {
     "data": {
      "text/html": [
       "<div>\n",
       "<style scoped>\n",
       "    .dataframe tbody tr th:only-of-type {\n",
       "        vertical-align: middle;\n",
       "    }\n",
       "\n",
       "    .dataframe tbody tr th {\n",
       "        vertical-align: top;\n",
       "    }\n",
       "\n",
       "    .dataframe thead th {\n",
       "        text-align: right;\n",
       "    }\n",
       "</style>\n",
       "<table border=\"1\" class=\"dataframe\">\n",
       "  <thead>\n",
       "    <tr style=\"text-align: right;\">\n",
       "      <th></th>\n",
       "      <th>objid</th>\n",
       "      <th>ra</th>\n",
       "      <th>dec</th>\n",
       "      <th>u</th>\n",
       "      <th>g</th>\n",
       "      <th>r</th>\n",
       "      <th>i</th>\n",
       "      <th>z</th>\n",
       "      <th>Spec_redshift</th>\n",
       "      <th>Photo_redshift</th>\n",
       "    </tr>\n",
       "  </thead>\n",
       "  <tbody>\n",
       "    <tr>\n",
       "      <th>count</th>\n",
       "      <td>1.827500e+04</td>\n",
       "      <td>18275.000000</td>\n",
       "      <td>18275.000000</td>\n",
       "      <td>18275.000000</td>\n",
       "      <td>18275.000000</td>\n",
       "      <td>18275.000000</td>\n",
       "      <td>18275.000000</td>\n",
       "      <td>18275.000000</td>\n",
       "      <td>18275.000000</td>\n",
       "      <td>18275.000000</td>\n",
       "    </tr>\n",
       "    <tr>\n",
       "      <th>mean</th>\n",
       "      <td>1.237666e+18</td>\n",
       "      <td>160.100951</td>\n",
       "      <td>29.958118</td>\n",
       "      <td>22.871960</td>\n",
       "      <td>21.559181</td>\n",
       "      <td>20.459263</td>\n",
       "      <td>19.722746</td>\n",
       "      <td>19.350116</td>\n",
       "      <td>0.623235</td>\n",
       "      <td>-326.184158</td>\n",
       "    </tr>\n",
       "    <tr>\n",
       "      <th>std</th>\n",
       "      <td>1.010763e+12</td>\n",
       "      <td>2.310841</td>\n",
       "      <td>1.681717</td>\n",
       "      <td>1.992794</td>\n",
       "      <td>1.961450</td>\n",
       "      <td>1.950353</td>\n",
       "      <td>1.843539</td>\n",
       "      <td>1.884384</td>\n",
       "      <td>0.519261</td>\n",
       "      <td>1777.605585</td>\n",
       "    </tr>\n",
       "    <tr>\n",
       "      <th>min</th>\n",
       "      <td>1.237664e+18</td>\n",
       "      <td>156.000086</td>\n",
       "      <td>27.000057</td>\n",
       "      <td>13.081420</td>\n",
       "      <td>13.003520</td>\n",
       "      <td>12.309080</td>\n",
       "      <td>11.965100</td>\n",
       "      <td>11.723410</td>\n",
       "      <td>-0.004016</td>\n",
       "      <td>-9999.000000</td>\n",
       "    </tr>\n",
       "    <tr>\n",
       "      <th>25%</th>\n",
       "      <td>1.237665e+18</td>\n",
       "      <td>158.137602</td>\n",
       "      <td>28.475802</td>\n",
       "      <td>22.119305</td>\n",
       "      <td>20.955460</td>\n",
       "      <td>19.268900</td>\n",
       "      <td>18.572560</td>\n",
       "      <td>18.164770</td>\n",
       "      <td>0.348680</td>\n",
       "      <td>0.289110</td>\n",
       "    </tr>\n",
       "    <tr>\n",
       "      <th>50%</th>\n",
       "      <td>1.237665e+18</td>\n",
       "      <td>160.092022</td>\n",
       "      <td>30.029720</td>\n",
       "      <td>23.034650</td>\n",
       "      <td>22.246770</td>\n",
       "      <td>21.052280</td>\n",
       "      <td>20.016540</td>\n",
       "      <td>19.476860</td>\n",
       "      <td>0.614018</td>\n",
       "      <td>0.501192</td>\n",
       "    </tr>\n",
       "    <tr>\n",
       "      <th>75%</th>\n",
       "      <td>1.237667e+18</td>\n",
       "      <td>162.149965</td>\n",
       "      <td>31.401093</td>\n",
       "      <td>24.092730</td>\n",
       "      <td>22.789235</td>\n",
       "      <td>21.970655</td>\n",
       "      <td>21.240790</td>\n",
       "      <td>20.843315</td>\n",
       "      <td>0.823868</td>\n",
       "      <td>0.628487</td>\n",
       "    </tr>\n",
       "    <tr>\n",
       "      <th>max</th>\n",
       "      <td>1.237667e+18</td>\n",
       "      <td>163.999620</td>\n",
       "      <td>32.999956</td>\n",
       "      <td>28.132690</td>\n",
       "      <td>31.072200</td>\n",
       "      <td>30.755570</td>\n",
       "      <td>30.653680</td>\n",
       "      <td>29.263140</td>\n",
       "      <td>7.014708</td>\n",
       "      <td>0.999471</td>\n",
       "    </tr>\n",
       "  </tbody>\n",
       "</table>\n",
       "</div>"
      ],
      "text/plain": [
       "              objid            ra           dec             u             g  \\\n",
       "count  1.827500e+04  18275.000000  18275.000000  18275.000000  18275.000000   \n",
       "mean   1.237666e+18    160.100951     29.958118     22.871960     21.559181   \n",
       "std    1.010763e+12      2.310841      1.681717      1.992794      1.961450   \n",
       "min    1.237664e+18    156.000086     27.000057     13.081420     13.003520   \n",
       "25%    1.237665e+18    158.137602     28.475802     22.119305     20.955460   \n",
       "50%    1.237665e+18    160.092022     30.029720     23.034650     22.246770   \n",
       "75%    1.237667e+18    162.149965     31.401093     24.092730     22.789235   \n",
       "max    1.237667e+18    163.999620     32.999956     28.132690     31.072200   \n",
       "\n",
       "                  r             i             z  Spec_redshift  Photo_redshift  \n",
       "count  18275.000000  18275.000000  18275.000000   18275.000000    18275.000000  \n",
       "mean      20.459263     19.722746     19.350116       0.623235     -326.184158  \n",
       "std        1.950353      1.843539      1.884384       0.519261     1777.605585  \n",
       "min       12.309080     11.965100     11.723410      -0.004016    -9999.000000  \n",
       "25%       19.268900     18.572560     18.164770       0.348680        0.289110  \n",
       "50%       21.052280     20.016540     19.476860       0.614018        0.501192  \n",
       "75%       21.970655     21.240790     20.843315       0.823868        0.628487  \n",
       "max       30.755570     30.653680     29.263140       7.014708        0.999471  "
      ]
     },
     "execution_count": 185,
     "metadata": {},
     "output_type": "execute_result"
    }
   ],
   "source": [
    "data.describe()"
   ]
  },
  {
   "cell_type": "code",
   "execution_count": 186,
   "metadata": {},
   "outputs": [
    {
     "data": {
      "text/plain": [
       "GALAXY    17271\n",
       "QSO         860\n",
       "STAR        144\n",
       "Name: class, dtype: int64"
      ]
     },
     "execution_count": 186,
     "metadata": {},
     "output_type": "execute_result"
    }
   ],
   "source": [
    "data[\"class\"].value_counts()"
   ]
  },
  {
   "cell_type": "code",
   "execution_count": 187,
   "metadata": {},
   "outputs": [
    {
     "data": {
      "text/plain": [
       "<matplotlib.collections.PathCollection at 0x7f53cc6f4100>"
      ]
     },
     "execution_count": 187,
     "metadata": {},
     "output_type": "execute_result"
    },
    {
     "data": {
      "image/png": "[encoded data removed]",
      "text/plain": [
       "<Figure size 432x288 with 1 Axes>"
      ]
     },
     "metadata": {
      "needs_background": "light"
     },
     "output_type": "display_data"
    }
   ],
   "source": [
    "ax = plt.subplot(111, polar=True)\n",
    "ax.scatter(x=np.deg2rad(data[\"ra\"]), y=data[\"Spec_redshift\"])"
   ]
  },
  {
   "cell_type": "code",
   "execution_count": 188,
   "metadata": {},
   "outputs": [
    {
     "data": {
      "text/plain": [
       "<AxesSubplot:xlabel='Spec_redshift', ylabel='Count'>"
      ]
     },
     "execution_count": 188,
     "metadata": {},
     "output_type": "execute_result"
    },
    {
     "data": {
      "image/png": "[encoded data removed]",
      "text/plain": [
       "<Figure size 432x288 with 1 Axes>"
      ]
     },
     "metadata": {
      "needs_background": "light"
     },
     "output_type": "display_data"
    }
   ],
   "source": [
    "sns.histplot(data, x=\"Spec_redshift\")"
   ]
  },
  {
   "cell_type": "markdown",
   "metadata": {},
   "source": [
    "## Distance ladder\n",
    "Equation (4.2.2) of Coles & Lucchin (p.77) comes essentially from the Hubble law\n",
    "$$\n",
    "d \\simeq \\frac{c}{H_0}z \\simeq 3000h^{-1} z \\,\\, \\text{Mpc}\n",
    "$$\n",
    "\n",
    "Some comments about its validity:\n",
    "\n",
    "* d must be sufficiently large that the recession velocity $v = H_0 d$ is much larger than the peculiar velocity of the object. In terms of redshift, this means $z \\gg 10^{-2}$\n",
    "* The velocity must not be so large that v is greater than the speed of light. Then, $z \\ll 10^{-1}$\n",
    "\n",
    "These conditions together means that $10^{-2} \\leq z \\leq 10^{-1}$\n",
    "\n",
    "In a Friedmann model, this result is an approximation. Indeed,\n",
    "$$\n",
    "    a(t) = a_0 \\left(1 + H_0(t - t_0) - \\frac{1}{2}q_0 H_0^2 (t - t_0)^2 + \\dots \\right)\n",
    "$$\n",
    "where $q_0$ is the deceleration parameter\n",
    "$$\n",
    "    q_0 = \\frac{\\ddot{a}(t_0) a_0}{\\dot{a}(t_0)^2}\n",
    "$$\n",
    "\n",
    "Redshift is defined as \n",
    "$$\n",
    "    1 + z = \\frac{a_0}{a} = \\frac{\\lambda_{\\text{obs}}}{\\lambda_{\\text{source}}}\n",
    "$$\n",
    "this means that\n",
    "$$\n",
    "    z = H_0 (t_0 - t) + \\left(1 + \\frac{1}{2}q_0\\right)H_0^2(t_0 - t)^2 + \\dots \n",
    "$$\n",
    "\n",
    "To find the distance $r$, we need to use the FRW metric,\n",
    "$$\n",
    "    \\int_t^{t_0} \\frac{c dt}{a} = \\int_0^r \\frac{dr}{(1 - \\kappa r^2)^{1/2}} \n",
    "$$\n",
    "\n",
    "Therefore\n",
    "$$\n",
    "    \\frac{c}{a_0} \\int_t^{t_0} [1 + H_0 (t_0 - t) + \\left(1 + \\frac{1}{2}q_0\\right)H_0^2(t_0 - t)^2 + \\dots ] \\simeq r + \\mathcal{O}(r^3)\n",
    "$$\n",
    "The distance can therefore be expressed in term of the redshift\n",
    "$$\n",
    "    r = \\frac{c}{a_0H_0}[z - \\frac{1}{2}(1 + q_0)z^2 + \\dots] \n",
    "$$\n",
    "by inverting the series.\n",
    "\n",
    "The luminosity distance can be derived so that the radiative inverse square law of propagation is respected:\n",
    "$$\n",
    "    d_L = a_0^2 \\frac{r}{a}\n",
    "$$\n",
    "We can therefore show that\n",
    "$$\n",
    "    d_L = \\frac{c}{H_0} [z + \\frac{1}{2}(1 - q_0)z^2 + \\dots]\n",
    "$$"
   ]
  },
  {
   "cell_type": "markdown",
   "metadata": {},
   "source": [
    "## Preprocessing\n"
   ]
  },
  {
   "cell_type": "code",
   "execution_count": 189,
   "metadata": {},
   "outputs": [],
   "source": [
    "data = data[(data[\"Spec_redshift\"] < 0.2) & (data[\"Spec_redshift\"] > 0.001)]\n",
    "# data = data[(data[\"Photo_redshift\"] < 0.9) & (data[\"Photo_redshift\"] > 0.2)]\n",
    "data = data[data[\"class\"] == \"GALAXY\"]"
   ]
  },
  {
   "cell_type": "code",
   "execution_count": 190,
   "metadata": {},
   "outputs": [],
   "source": [
    "H0 = 72 * u.km / u.s / u.Mpc\n",
    "alpha = (c/H0).to(u.Mpc)"
   ]
  },
  {
   "cell_type": "code",
   "execution_count": 191,
   "metadata": {},
   "outputs": [],
   "source": [
    "# spherical coordinates\n",
    "theta = np.deg2rad(data[\"dec\"]).to_numpy()\n",
    "phi = np.deg2rad(data[\"ra\"]).to_numpy()\n",
    "# r = alpha * data[\"Photo_redshift\"].to_numpy()\n",
    "r = alpha * data[\"Spec_redshift\"].to_numpy()\n",
    "#cartesian coordinates\n",
    "x = r * np.sin(theta) * np.cos(phi)\n",
    "y = r * np.sin(theta) * np.sin(phi)\n",
    "z = r * np.cos(theta)"
   ]
  },
  {
   "cell_type": "code",
   "execution_count": 192,
   "metadata": {},
   "outputs": [
    {
     "data": {
      "text/plain": [
       "<mpl_toolkits.mplot3d.art3d.Path3DCollection at 0x7f53cc28a4f0>"
      ]
     },
     "execution_count": 192,
     "metadata": {},
     "output_type": "execute_result"
    },
    {
     "data": {
      "image/png": "[encoded data removed]",
      "text/plain": [
       "<Figure size 432x288 with 1 Axes>"
      ]
     },
     "metadata": {
      "needs_background": "light"
     },
     "output_type": "display_data"
    }
   ],
   "source": [
    "fig = plt.figure()\n",
    "ax = fig.add_subplot(111, projection='3d')\n",
    "ax.scatter(x, y, z)"
   ]
  },
  {
   "cell_type": "markdown",
   "metadata": {},
   "source": [
    "## Autocorrelation function "
   ]
  },
  {
   "cell_type": "code",
   "execution_count": 198,
   "metadata": {},
   "outputs": [],
   "source": [
    "# select a subsample to speed up computation during testing\n",
    "select = 1\n",
    "indices = np.random.randint(0, len(x), int(select * len(x)))\n",
    "_x = x[indices].value # remove unit to speed up computation\n",
    "_y = y[indices].value\n",
    "_z = z[indices].value\n",
    "position = np.concatenate([_x[:, np.newaxis], _y[:, np.newaxis], _z[:, np.newaxis]], axis=1)"
   ]
  },
  {
   "cell_type": "code",
   "execution_count": 199,
   "metadata": {},
   "outputs": [],
   "source": [
    "# compute all distances between unique pairs\n",
    "n = len(_x)\n",
    "pairs = np.zeros(n * (n - 1)//2) #* u.Mpc\n",
    "k = 0\n",
    "# remove border effects -> there is too much pairs close to each other below 1000 Mpc\n",
    "for i in range(n-1):\n",
    "    for j in range(i+1, n):\n",
    "        d = position[i] - position[j]\n",
    "        pairs[k] = np.sqrt(np.dot(d, d))\n",
    "        k += 1"
   ]
  },
  {
   "cell_type": "code",
   "execution_count": 200,
   "metadata": {},
   "outputs": [
    {
     "data": {
      "text/plain": [
       "DescribeResult(nobs=4408965, minmax=(0.0, 823.4343106099267), mean=217.99220891003608, variance=23881.35182323492, skewness=0.7979537141615677, kurtosis=0.08013408077136841)"
      ]
     },
     "execution_count": 200,
     "metadata": {},
     "output_type": "execute_result"
    }
   ],
   "source": [
    "stats.describe(pairs)"
   ]
  },
  {
   "cell_type": "code",
   "execution_count": 201,
   "metadata": {},
   "outputs": [
    {
     "data": {
      "text/plain": [
       "Text(0.5, 0, 'Distance (Mpc)')"
      ]
     },
     "execution_count": 201,
     "metadata": {},
     "output_type": "execute_result"
    },
    {
     "data": {
      "image/png": "[encoded data removed]",
      "text/plain": [
       "<Figure size 432x288 with 1 Axes>"
      ]
     },
     "metadata": {
      "needs_background": "light"
     },
     "output_type": "display_data"
    }
   ],
   "source": [
    "plt.hist(pairs, bins=50)\n",
    "plt.xlabel(\"Distance (Mpc)\")"
   ]
  },
  {
   "cell_type": "code",
   "execution_count": null,
   "metadata": {},
   "outputs": [],
   "source": []
  }
 ],
 "metadata": {
  "kernelspec": {
   "display_name": "Python 3",
   "language": "python",
   "name": "python3"
  },
  "language_info": {
   "codemirror_mode": {
    "name": "ipython",
    "version": 3
   },
   "file_extension": ".py",
   "mimetype": "text/x-python",
   "name": "python",
   "nbconvert_exporter": "python",
   "pygments_lexer": "ipython3",
   "version": "3.8.5"
  }
 },
 "nbformat": 4,
 "nbformat_minor": 4
}
