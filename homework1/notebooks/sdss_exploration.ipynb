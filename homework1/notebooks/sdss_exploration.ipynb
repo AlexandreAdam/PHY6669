{
 "cells": [
  {
   "cell_type": "code",
   "execution_count": 9,
   "metadata": {},
   "outputs": [],
   "source": [
    "import numpy as np\n",
    "import pandas as pd\n",
    "import seaborn as sns\n",
    "import astropy.units as u\n",
    "from astropy.constants import c\n",
    "from scipy import stats\n",
    "from scipy.optimize import minimize\n",
    "from itertools import product\n",
    "from scipy.stats import binned_statistic\n",
    "from astropy.cosmology import FlatLambdaCDM\n",
    "%matplotlib inline"
   ]
  },
  {
   "cell_type": "code",
   "execution_count": 10,
   "metadata": {},
   "outputs": [],
   "source": [
    "datapath = \"../../data/Skyserver_SQL1_20_2021 12 59 33 AM.csv\"\n",
    "data = pd.read_csv(datapath, skiprows=1)"
   ]
  },
  {
   "cell_type": "code",
   "execution_count": 11,
   "metadata": {},
   "outputs": [
    {
     "data": {
      "text/html": [
       "<div>\n",
       "<style scoped>\n",
       "    .dataframe tbody tr th:only-of-type {\n",
       "        vertical-align: middle;\n",
       "    }\n",
       "\n",
       "    .dataframe tbody tr th {\n",
       "        vertical-align: top;\n",
       "    }\n",
       "\n",
       "    .dataframe thead th {\n",
       "        text-align: right;\n",
       "    }\n",
       "</style>\n",
       "<table border=\"1\" class=\"dataframe\">\n",
       "  <thead>\n",
       "    <tr style=\"text-align: right;\">\n",
       "      <th></th>\n",
       "      <th>objid</th>\n",
       "      <th>ra</th>\n",
       "      <th>dec</th>\n",
       "      <th>u</th>\n",
       "      <th>g</th>\n",
       "      <th>r</th>\n",
       "      <th>i</th>\n",
       "      <th>z</th>\n",
       "      <th>class</th>\n",
       "      <th>Spec_redshift</th>\n",
       "      <th>Photo_redshift</th>\n",
       "    </tr>\n",
       "  </thead>\n",
       "  <tbody>\n",
       "    <tr>\n",
       "      <th>0</th>\n",
       "      <td>1237664336634773797</td>\n",
       "      <td>156.083375</td>\n",
       "      <td>32.709000</td>\n",
       "      <td>24.98781</td>\n",
       "      <td>22.64577</td>\n",
       "      <td>20.85607</td>\n",
       "      <td>20.01825</td>\n",
       "      <td>19.53245</td>\n",
       "      <td>GALAXY</td>\n",
       "      <td>0.447654</td>\n",
       "      <td>0.471256</td>\n",
       "    </tr>\n",
       "    <tr>\n",
       "      <th>1</th>\n",
       "      <td>1237664336634839202</td>\n",
       "      <td>156.296235</td>\n",
       "      <td>32.672318</td>\n",
       "      <td>22.44163</td>\n",
       "      <td>19.40266</td>\n",
       "      <td>17.98819</td>\n",
       "      <td>17.47593</td>\n",
       "      <td>17.11373</td>\n",
       "      <td>GALAXY</td>\n",
       "      <td>0.238772</td>\n",
       "      <td>0.231899</td>\n",
       "    </tr>\n",
       "    <tr>\n",
       "      <th>2</th>\n",
       "      <td>1237665015235543789</td>\n",
       "      <td>157.010907</td>\n",
       "      <td>30.688310</td>\n",
       "      <td>22.82454</td>\n",
       "      <td>22.78598</td>\n",
       "      <td>21.28844</td>\n",
       "      <td>20.26129</td>\n",
       "      <td>19.61507</td>\n",
       "      <td>GALAXY</td>\n",
       "      <td>0.553255</td>\n",
       "      <td>0.574192</td>\n",
       "    </tr>\n",
       "    <tr>\n",
       "      <th>3</th>\n",
       "      <td>1237665015235608766</td>\n",
       "      <td>157.034266</td>\n",
       "      <td>30.810887</td>\n",
       "      <td>22.83281</td>\n",
       "      <td>20.49039</td>\n",
       "      <td>19.13832</td>\n",
       "      <td>18.58947</td>\n",
       "      <td>18.13461</td>\n",
       "      <td>GALAXY</td>\n",
       "      <td>0.239355</td>\n",
       "      <td>0.265097</td>\n",
       "    </tr>\n",
       "    <tr>\n",
       "      <th>4</th>\n",
       "      <td>1237665015235608803</td>\n",
       "      <td>157.100967</td>\n",
       "      <td>30.820288</td>\n",
       "      <td>22.02535</td>\n",
       "      <td>19.97694</td>\n",
       "      <td>18.64904</td>\n",
       "      <td>18.13601</td>\n",
       "      <td>17.78678</td>\n",
       "      <td>GALAXY</td>\n",
       "      <td>0.242969</td>\n",
       "      <td>0.225843</td>\n",
       "    </tr>\n",
       "  </tbody>\n",
       "</table>\n",
       "</div>"
      ],
      "text/plain": [
       "                 objid          ra        dec         u         g         r  \\\n",
       "0  1237664336634773797  156.083375  32.709000  24.98781  22.64577  20.85607   \n",
       "1  1237664336634839202  156.296235  32.672318  22.44163  19.40266  17.98819   \n",
       "2  1237665015235543789  157.010907  30.688310  22.82454  22.78598  21.28844   \n",
       "3  1237665015235608766  157.034266  30.810887  22.83281  20.49039  19.13832   \n",
       "4  1237665015235608803  157.100967  30.820288  22.02535  19.97694  18.64904   \n",
       "\n",
       "          i         z   class  Spec_redshift  Photo_redshift  \n",
       "0  20.01825  19.53245  GALAXY       0.447654        0.471256  \n",
       "1  17.47593  17.11373  GALAXY       0.238772        0.231899  \n",
       "2  20.26129  19.61507  GALAXY       0.553255        0.574192  \n",
       "3  18.58947  18.13461  GALAXY       0.239355        0.265097  \n",
       "4  18.13601  17.78678  GALAXY       0.242969        0.225843  "
      ]
     },
     "execution_count": 11,
     "metadata": {},
     "output_type": "execute_result"
    }
   ],
   "source": [
    "data.head()"
   ]
  },
  {
   "cell_type": "code",
   "execution_count": 12,
   "metadata": {},
   "outputs": [
    {
     "data": {
      "text/html": [
       "<div>\n",
       "<style scoped>\n",
       "    .dataframe tbody tr th:only-of-type {\n",
       "        vertical-align: middle;\n",
       "    }\n",
       "\n",
       "    .dataframe tbody tr th {\n",
       "        vertical-align: top;\n",
       "    }\n",
       "\n",
       "    .dataframe thead th {\n",
       "        text-align: right;\n",
       "    }\n",
       "</style>\n",
       "<table border=\"1\" class=\"dataframe\">\n",
       "  <thead>\n",
       "    <tr style=\"text-align: right;\">\n",
       "      <th></th>\n",
       "      <th>objid</th>\n",
       "      <th>ra</th>\n",
       "      <th>dec</th>\n",
       "      <th>u</th>\n",
       "      <th>g</th>\n",
       "      <th>r</th>\n",
       "      <th>i</th>\n",
       "      <th>z</th>\n",
       "      <th>Spec_redshift</th>\n",
       "      <th>Photo_redshift</th>\n",
       "    </tr>\n",
       "  </thead>\n",
       "  <tbody>\n",
       "    <tr>\n",
       "      <th>count</th>\n",
       "      <td>1.827500e+04</td>\n",
       "      <td>18275.000000</td>\n",
       "      <td>18275.000000</td>\n",
       "      <td>18275.000000</td>\n",
       "      <td>18275.000000</td>\n",
       "      <td>18275.000000</td>\n",
       "      <td>18275.000000</td>\n",
       "      <td>18275.000000</td>\n",
       "      <td>18275.000000</td>\n",
       "      <td>18275.000000</td>\n",
       "    </tr>\n",
       "    <tr>\n",
       "      <th>mean</th>\n",
       "      <td>1.237666e+18</td>\n",
       "      <td>160.100951</td>\n",
       "      <td>29.958118</td>\n",
       "      <td>22.871960</td>\n",
       "      <td>21.559181</td>\n",
       "      <td>20.459263</td>\n",
       "      <td>19.722746</td>\n",
       "      <td>19.350116</td>\n",
       "      <td>0.623235</td>\n",
       "      <td>-326.184158</td>\n",
       "    </tr>\n",
       "    <tr>\n",
       "      <th>std</th>\n",
       "      <td>1.010763e+12</td>\n",
       "      <td>2.310841</td>\n",
       "      <td>1.681717</td>\n",
       "      <td>1.992794</td>\n",
       "      <td>1.961450</td>\n",
       "      <td>1.950353</td>\n",
       "      <td>1.843539</td>\n",
       "      <td>1.884384</td>\n",
       "      <td>0.519261</td>\n",
       "      <td>1777.605585</td>\n",
       "    </tr>\n",
       "    <tr>\n",
       "      <th>min</th>\n",
       "      <td>1.237664e+18</td>\n",
       "      <td>156.000086</td>\n",
       "      <td>27.000057</td>\n",
       "      <td>13.081420</td>\n",
       "      <td>13.003520</td>\n",
       "      <td>12.309080</td>\n",
       "      <td>11.965100</td>\n",
       "      <td>11.723410</td>\n",
       "      <td>-0.004016</td>\n",
       "      <td>-9999.000000</td>\n",
       "    </tr>\n",
       "    <tr>\n",
       "      <th>25%</th>\n",
       "      <td>1.237665e+18</td>\n",
       "      <td>158.137602</td>\n",
       "      <td>28.475802</td>\n",
       "      <td>22.119305</td>\n",
       "      <td>20.955460</td>\n",
       "      <td>19.268900</td>\n",
       "      <td>18.572560</td>\n",
       "      <td>18.164770</td>\n",
       "      <td>0.348680</td>\n",
       "      <td>0.289110</td>\n",
       "    </tr>\n",
       "    <tr>\n",
       "      <th>50%</th>\n",
       "      <td>1.237665e+18</td>\n",
       "      <td>160.092022</td>\n",
       "      <td>30.029720</td>\n",
       "      <td>23.034650</td>\n",
       "      <td>22.246770</td>\n",
       "      <td>21.052280</td>\n",
       "      <td>20.016540</td>\n",
       "      <td>19.476860</td>\n",
       "      <td>0.614018</td>\n",
       "      <td>0.501192</td>\n",
       "    </tr>\n",
       "    <tr>\n",
       "      <th>75%</th>\n",
       "      <td>1.237667e+18</td>\n",
       "      <td>162.149965</td>\n",
       "      <td>31.401093</td>\n",
       "      <td>24.092730</td>\n",
       "      <td>22.789235</td>\n",
       "      <td>21.970655</td>\n",
       "      <td>21.240790</td>\n",
       "      <td>20.843315</td>\n",
       "      <td>0.823868</td>\n",
       "      <td>0.628487</td>\n",
       "    </tr>\n",
       "    <tr>\n",
       "      <th>max</th>\n",
       "      <td>1.237667e+18</td>\n",
       "      <td>163.999620</td>\n",
       "      <td>32.999956</td>\n",
       "      <td>28.132690</td>\n",
       "      <td>31.072200</td>\n",
       "      <td>30.755570</td>\n",
       "      <td>30.653680</td>\n",
       "      <td>29.263140</td>\n",
       "      <td>7.014708</td>\n",
       "      <td>0.999471</td>\n",
       "    </tr>\n",
       "  </tbody>\n",
       "</table>\n",
       "</div>"
      ],
      "text/plain": [
       "              objid            ra           dec             u             g  \\\n",
       "count  1.827500e+04  18275.000000  18275.000000  18275.000000  18275.000000   \n",
       "mean   1.237666e+18    160.100951     29.958118     22.871960     21.559181   \n",
       "std    1.010763e+12      2.310841      1.681717      1.992794      1.961450   \n",
       "min    1.237664e+18    156.000086     27.000057     13.081420     13.003520   \n",
       "25%    1.237665e+18    158.137602     28.475802     22.119305     20.955460   \n",
       "50%    1.237665e+18    160.092022     30.029720     23.034650     22.246770   \n",
       "75%    1.237667e+18    162.149965     31.401093     24.092730     22.789235   \n",
       "max    1.237667e+18    163.999620     32.999956     28.132690     31.072200   \n",
       "\n",
       "                  r             i             z  Spec_redshift  Photo_redshift  \n",
       "count  18275.000000  18275.000000  18275.000000   18275.000000    18275.000000  \n",
       "mean      20.459263     19.722746     19.350116       0.623235     -326.184158  \n",
       "std        1.950353      1.843539      1.884384       0.519261     1777.605585  \n",
       "min       12.309080     11.965100     11.723410      -0.004016    -9999.000000  \n",
       "25%       19.268900     18.572560     18.164770       0.348680        0.289110  \n",
       "50%       21.052280     20.016540     19.476860       0.614018        0.501192  \n",
       "75%       21.970655     21.240790     20.843315       0.823868        0.628487  \n",
       "max       30.755570     30.653680     29.263140       7.014708        0.999471  "
      ]
     },
     "execution_count": 12,
     "metadata": {},
     "output_type": "execute_result"
    }
   ],
   "source": [
    "data.describe()"
   ]
  },
  {
   "cell_type": "code",
   "execution_count": 13,
   "metadata": {},
   "outputs": [
    {
     "data": {
      "text/plain": [
       "GALAXY    17271\n",
       "QSO         860\n",
       "STAR        144\n",
       "Name: class, dtype: int64"
      ]
     },
     "execution_count": 13,
     "metadata": {},
     "output_type": "execute_result"
    }
   ],
   "source": [
    "data[\"class\"].value_counts()"
   ]
  },
  {
   "cell_type": "code",
   "execution_count": 14,
   "metadata": {},
   "outputs": [
    {
     "data": {
      "text/plain": [
       "<matplotlib.collections.PathCollection at 0x7f58ee6395e0>"
      ]
     },
     "execution_count": 14,
     "metadata": {},
     "output_type": "execute_result"
    },
    {
     "data": {
      "image/png": "[encoded data removed]",
      "text/plain": [
       "<Figure size 432x288 with 1 Axes>"
      ]
     },
     "metadata": {
      "needs_background": "light"
     },
     "output_type": "display_data"
    }
   ],
   "source": [
    "ax = plt.subplot(111, polar=True)\n",
    "ax.scatter(x=np.deg2rad(data[\"ra\"]), y=data[\"Spec_redshift\"])"
   ]
  },
  {
   "cell_type": "code",
   "execution_count": 15,
   "metadata": {},
   "outputs": [
    {
     "data": {
      "text/plain": [
       "<AxesSubplot:xlabel='Spec_redshift', ylabel='Count'>"
      ]
     },
     "execution_count": 15,
     "metadata": {},
     "output_type": "execute_result"
    },
    {
     "data": {
      "image/png": "[encoded data removed]",
      "text/plain": [
       "<Figure size 432x288 with 1 Axes>"
      ]
     },
     "metadata": {
      "needs_background": "light"
     },
     "output_type": "display_data"
    }
   ],
   "source": [
    "sns.histplot(data, x=\"Spec_redshift\")"
   ]
  },
  {
   "cell_type": "markdown",
   "metadata": {},
   "source": [
    "## Distance ladder\n",
    "Equation (4.2.2) of Coles & Lucchin (p.77) comes essentially from the Hubble law\n",
    "$$\n",
    "d \\simeq \\frac{c}{H_0}z \\simeq 3000h^{-1} z \\,\\, \\text{Mpc}\n",
    "$$\n",
    "\n",
    "Some comments about its validity:\n",
    "\n",
    "* d must be sufficiently large that the recession velocity $v = H_0 d$ is much larger than the peculiar velocity of the object. In terms of redshift, this means $z \\gg 10^{-2}$\n",
    "* The velocity must not be so large that v is greater than the speed of light. Then, $z \\ll 10^{-1}$\n",
    "\n",
    "These conditions together means that $10^{-2} \\leq z \\leq 10^{-1}$\n",
    "\n",
    "In a Friedmann model, this result is an approximation. Indeed,\n",
    "$$\n",
    "    a(t) = a_0 \\left(1 + H_0(t - t_0) - \\frac{1}{2}q_0 H_0^2 (t - t_0)^2 + \\dots \\right)\n",
    "$$\n",
    "where $q_0$ is the deceleration parameter\n",
    "$$\n",
    "    q_0 = \\frac{\\ddot{a}(t_0) a_0}{\\dot{a}(t_0)^2}\n",
    "$$\n",
    "\n",
    "Redshift is defined as \n",
    "$$\n",
    "    1 + z = \\frac{a_0}{a} = \\frac{\\lambda_{\\text{obs}}}{\\lambda_{\\text{source}}}\n",
    "$$\n",
    "this means that\n",
    "$$\n",
    "    z = H_0 (t_0 - t) + \\left(1 + \\frac{1}{2}q_0\\right)H_0^2(t_0 - t)^2 + \\dots \n",
    "$$\n",
    "\n",
    "To find the distance $r$, we need to use the FRW metric,\n",
    "$$\n",
    "    \\int_t^{t_0} \\frac{c dt}{a} = \\int_0^r \\frac{dr}{(1 - \\kappa r^2)^{1/2}} \n",
    "$$\n",
    "\n",
    "Therefore\n",
    "$$\n",
    "    \\frac{c}{a_0} \\int_t^{t_0} [1 + H_0 (t_0 - t) + \\left(1 + \\frac{1}{2}q_0\\right)H_0^2(t_0 - t)^2 + \\dots ] \\simeq r + \\mathcal{O}(r^3)\n",
    "$$\n",
    "The distance can therefore be expressed in term of the redshift\n",
    "$$\n",
    "    r = \\frac{c}{a_0H_0}[z - \\frac{1}{2}(1 + q_0)z^2 + \\dots] \n",
    "$$\n",
    "by inverting the series.\n",
    "\n",
    "The luminosity distance can be derived so that the radiative inverse square law of propagation is respected:\n",
    "$$\n",
    "    d_L = a_0^2 \\frac{r}{a}\n",
    "$$\n",
    "We can therefore show that\n",
    "$$\n",
    "    d_L = \\frac{c}{H_0} [z + \\frac{1}{2}(1 - q_0)z^2 + \\dots]\n",
    "$$"
   ]
  },
  {
   "cell_type": "markdown",
   "metadata": {},
   "source": [
    "## Preprocessing\n"
   ]
  },
  {
   "cell_type": "code",
   "execution_count": 93,
   "metadata": {},
   "outputs": [],
   "source": [
    "_data = data[(data[\"Spec_redshift\"] < 1) & (data[\"Spec_redshift\"] > 0.001)]\n",
    "# data = data[(data[\"Photo_redshift\"] < 0.9) & (data[\"Photo_redshift\"] > 0.2)]\n",
    "_data = _data[_data[\"class\"] == \"GALAXY\"]"
   ]
  },
  {
   "cell_type": "code",
   "execution_count": 94,
   "metadata": {},
   "outputs": [],
   "source": [
    "H0 = 72 * u.km / u.s / u.Mpc\n",
    "alpha = (c/H0).to(u.Mpc)"
   ]
  },
  {
   "cell_type": "code",
   "execution_count": 95,
   "metadata": {},
   "outputs": [
    {
     "data": {
      "text/plain": [
       "16183"
      ]
     },
     "execution_count": 95,
     "metadata": {},
     "output_type": "execute_result"
    }
   ],
   "source": [
    "len(_data)"
   ]
  },
  {
   "cell_type": "code",
   "execution_count": 96,
   "metadata": {},
   "outputs": [],
   "source": [
    "# spherical coordinates\n",
    "cosmo = FlatLambdaCDM(H0, 0.3)\n",
    "theta = np.deg2rad(_data[\"dec\"]).to_numpy()\n",
    "phi = np.deg2rad(_data[\"ra\"]).to_numpy()\n",
    "# r = alpha * data[\"Photo_redshift\"].to_numpy()\n",
    "# r = alpha * _data[\"Spec_redshift\"].to_numpy()\n",
    "r = cosmo.comoving_distance(_data[\"Spec_redshift\"].to_numpy())\n",
    "#cartesian coordinates\n",
    "x = r * np.sin(theta) * np.cos(phi)\n",
    "y = r * np.sin(theta) * np.sin(phi)\n",
    "z = r * np.cos(theta)"
   ]
  },
  {
   "cell_type": "code",
   "execution_count": 97,
   "metadata": {},
   "outputs": [
    {
     "data": {
      "text/plain": [
       "<mpl_toolkits.mplot3d.art3d.Path3DCollection at 0x7f58c222f520>"
      ]
     },
     "execution_count": 97,
     "metadata": {},
     "output_type": "execute_result"
    },
    {
     "data": {
      "image/png": "[encoded data removed]",
      "text/plain": [
       "<Figure size 432x288 with 1 Axes>"
      ]
     },
     "metadata": {
      "needs_background": "light"
     },
     "output_type": "display_data"
    }
   ],
   "source": [
    "fig = plt.figure()\n",
    "ax = fig.add_subplot(111, projection='3d')\n",
    "ax.scatter(x, y, z)"
   ]
  },
  {
   "cell_type": "code",
   "execution_count": 98,
   "metadata": {},
   "outputs": [
    {
     "data": {
      "text/plain": [
       "(array([ 914., 1726.,  709.,  741., 1038., 1906., 1997., 1992., 3191.,\n",
       "        1969.]),\n",
       " array([   6.21550181,  326.7648595 ,  647.31421719,  967.86357489,\n",
       "        1288.41293258, 1608.96229027, 1929.51164796, 2250.06100566,\n",
       "        2570.61036335, 2891.15972104, 3211.70907873]),\n",
       " <BarContainer object of 10 artists>)"
      ]
     },
     "execution_count": 98,
     "metadata": {},
     "output_type": "execute_result"
    },
    {
     "data": {
      "image/png": "[encoded data removed]",
      "text/plain": [
       "<Figure size 432x288 with 1 Axes>"
      ]
     },
     "metadata": {
      "needs_background": "light"
     },
     "output_type": "display_data"
    }
   ],
   "source": [
    "plt.hist(r.value)"
   ]
  },
  {
   "cell_type": "markdown",
   "metadata": {},
   "source": [
    "## Dataset statistics\n",
    "\n",
    "We approximate the volume as a cone, therefore\n",
    "$$\n",
    "    V \\simeq \\frac{1}{12}\\pi h^3 \\tan^2(\\bar{\\vartheta})\n",
    "$$\n",
    "where $h = c \\max_{\\mathcal{D}}(z) / H_0$ and $\\bar{\\vartheta}$ is an estimate of the cone opening angle by taking the greatest angle difference in the declination angle or right ascension angle in the dataset."
   ]
  },
  {
   "cell_type": "code",
   "execution_count": 102,
   "metadata": {},
   "outputs": [
    {
     "data": {
      "text/latex": [
       "$9.4477413 \\times 10^{-5} \\; \\mathrm{\\frac{1}{Mpc^{3}}}$"
      ],
      "text/plain": [
       "<Quantity 9.44774127e-05 1 / Mpc3>"
      ]
     },
     "execution_count": 102,
     "metadata": {},
     "output_type": "execute_result"
    }
   ],
   "source": [
    "# We estimate the mean density by approximating the volume as a cone -> this a poisson poit process model estimate of the density\n",
    "theta_opening = np.max(theta) - np.min(theta)\n",
    "phi_opening = np.max(phi) - np.min(phi)\n",
    "opening = max(theta_opening, phi_opening)\n",
    "V = np.pi * np.max(r)**3 * np.tan(opening)**2 / 12\n",
    "n = len(_data) / V # mean density\n",
    "n"
   ]
  },
  {
   "cell_type": "markdown",
   "metadata": {},
   "source": [
    "## Autocorrelation function \n",
    "\n",
    "The spatial correlation function $\\xi(r)$ is a unitless measure of overdensity in regions of characteristic scale $r$ \n",
    "$$\n",
    "    \\xi(\\mathbf{r}) = \\frac{\\langle n(\\mathbf{r}_1) n(\\mathbf{r}_1 + \\mathbf{r} )\\rangle}{\\langle n \\rangle ^2} - 1\n",
    "$$\n",
    "where $\\langle n \\rangle$ is the mean density according to some model. In our case, \n",
    "$$\n",
    "    \\langle n \\rangle = \\frac{12 N_{\\text{gal}}}{\\pi z_\\max^3 \\tan^2(\\theta)}\n",
    "$$\n",
    "\n",
    "We create a number density estimator of $n(\\mathbf{r})$ by pixelizing the volume survey and counting the number of galazy found in each pixels.\n",
    "<!-- $$\n",
    "    P(k) = \\int d^3r \\xi(r) e^{i \\mathbf{k} \\cdot \\mathbf{r}}\n",
    "$$ -->"
   ]
  },
  {
   "cell_type": "code",
   "execution_count": 103,
   "metadata": {},
   "outputs": [],
   "source": [
    "# select a subsample to speed up computation during testing\n",
    "select = 0.1\n",
    "indices = np.random.randint(0, len(x), int(select * len(x)))\n",
    "_x = x[indices].value # remove unit to speed up computation\n",
    "_y = y[indices].value\n",
    "_z = z[indices].value\n",
    "position = np.concatenate([_x[:, np.newaxis], _y[:, np.newaxis], _z[:, np.newaxis]], axis=1)"
   ]
  },
  {
   "cell_type": "code",
   "execution_count": 104,
   "metadata": {},
   "outputs": [
    {
     "data": {
      "text/plain": [
       "207"
      ]
     },
     "execution_count": 104,
     "metadata": {},
     "output_type": "execute_result"
    }
   ],
   "source": [
    "# generate a cartesian grid in the region of interest\n",
    "# with want pixel of equal size dispersed in the volume, which is a slice\n",
    "ell = 15 # Mpc\n",
    "# start the grid where the opening allows for at least one pixel\n",
    "radial_grid = np.arange(max(ell/opening, r.min().value), r.max().value, ell)\n",
    "radial_grid.size"
   ]
  },
  {
   "cell_type": "code",
   "execution_count": 105,
   "metadata": {},
   "outputs": [],
   "source": [
    "theta_min = theta.min()\n",
    "phi_min = phi.min()\n",
    "theta_max = theta.max()\n",
    "phi_max = phi.max()\n",
    "\n",
    "theta_grids = []\n",
    "phi_grids = []\n",
    "for _r in radial_grid:\n",
    "    # avoid placing pixel at the edges, this means shifting the angle array by ell/r/2\n",
    "    theta_grids.append(list(np.arange(theta_min + ell/_r/2, theta_max, ell/_r)))\n",
    "    phi_grids.append(list(np.arange(phi_min + ell/_r/2, phi_max, ell/_r)))\n",
    "    "
   ]
  },
  {
   "cell_type": "code",
   "execution_count": 48,
   "metadata": {},
   "outputs": [
    {
     "data": {
      "text/plain": [
       "<mpl_toolkits.mplot3d.art3d.Path3DCollection at 0x7f7a45c28820>"
      ]
     },
     "execution_count": 48,
     "metadata": {},
     "output_type": "execute_result"
    },
    {
     "data": {
      "image/png": "[encoded data removed]",
      "text/plain": [
       "<Figure size 432x288 with 1 Axes>"
      ]
     },
     "metadata": {
      "needs_background": "light"
     },
     "output_type": "display_data"
    }
   ],
   "source": [
    "# create the pixel coordinate array\n",
    "temp = list(zip(list(radial_grid), theta_grids, phi_grids)) # attach theta_grid to its respective radius\n",
    "coords = []\n",
    "for r_list in temp:\n",
    "    _r = r_list[0]\n",
    "    _theta_list = r_list[1]\n",
    "    _phi_list = r_list[2]\n",
    "    coords.extend([(_r, _theta, _phi) for _theta in _theta_list for _phi in _phi_list])\n",
    "def spherical_to_cartesian(coords):\n",
    "    r = coords[:, 0]\n",
    "    theta = coords[:, 1]\n",
    "    phi = coords[:, 2]\n",
    "    x = r * np.sin(theta) * np.cos(phi)\n",
    "    y = r * np.sin(theta) * np.sin(phi)\n",
    "    z = r * np.cos(theta)\n",
    "    return np.column_stack([x, y, z])\n",
    "\n",
    "pixel_grid = np.vstack(coords)\n",
    "pixel_grid = spherical_to_cartesian(pixel_grid)\n",
    "\n",
    "\n",
    "fig = plt.figure()\n",
    "ax = fig.add_subplot(111, projection='3d')\n",
    "ax.scatter(pixel_grid[:, 0], pixel_grid[:, 1], pixel_grid[:, 2])"
   ]
  },
  {
   "cell_type": "code",
   "execution_count": 49,
   "metadata": {},
   "outputs": [],
   "source": [
    "def voxel_count(r, r_i, ell):\n",
    "    # r: position of the marks (galaxies)\n",
    "    # r_i: position of the center of each pixel\n",
    "    # 6 condition for a voxel\n",
    "    right_condition =  r[np.newaxis, :, 0] < r_i[:, np.newaxis, 0] + ell/2\n",
    "    left_condition = r[np.newaxis, :, 0] > r_i[:, np.newaxis, 0] - ell/2\n",
    "    up_condition = r[np.newaxis, :, 1] < r_i[:, np.newaxis, 1] + ell/2\n",
    "    down_condition = r[np.newaxis, :, 1] > r_i[:, np.newaxis, 1] - ell/2\n",
    "    front_condition = r[np.newaxis, :, 2] < r_i[:, np.newaxis, 2] + ell/2\n",
    "    back_condition = r[np.newaxis, :, 2] > r_i[:, np.newaxis, 2] - ell/2\n",
    "    return (right_condition * left_condition * up_condition * down_condition * front_condition * back_condition).sum(axis=1)\n",
    "\n",
    "pixel_count_estimator = voxel_count(position, pixel_grid, ell)\n",
    "N_pixel = pixel_count_estimator.size\n",
    "pair_pixel_product = np.zeros(N_pixel * (N_pixel  - 1)//2)\n",
    "pair_distance = np.zeros(N_pixel  * (N_pixel  - 1)//2)\n",
    "\n",
    "\n",
    "k = 0\n",
    "for i in range(N_pixel):\n",
    "    for j in range(i + 1, N_pixel):\n",
    "        pair_pixel_product[k] = pixel_count_estimator[i] * pixel_count_estimator[j]\n",
    "        d = pixel_grid[i] - pixel_grid[j]\n",
    "        pair_distance[k] = np.sqrt(d.T @ d)\n",
    "        k += 1"
   ]
  },
  {
   "cell_type": "code",
   "execution_count": 52,
   "metadata": {},
   "outputs": [
    {
     "data": {
      "text/plain": [
       "<matplotlib.lines.Line2D at 0x7f7a4e047550>"
      ]
     },
     "execution_count": 52,
     "metadata": {},
     "output_type": "execute_result"
    },
    {
     "data": {
      "image/png": "[encoded data removed]",
      "text/plain": [
       "<Figure size 432x288 with 1 Axes>"
      ]
     },
     "metadata": {
      "needs_background": "light"
     },
     "output_type": "display_data"
    }
   ],
   "source": [
    "# normalization = pixel_count_estimator.mean()\n",
    "correlation_estimator, bin_edge, bin_number = binned_statistic(x=pair_distance, values=pair_pixel_product, bins=100)\n",
    "normalization = len(_data) / V.value #* bin_edge[1:]**3 # normalization depends on r!\n",
    "\n",
    "plt.plot(bin_edge[:-1], correlation_estimator/normalization**2, \".k\")\n",
    "# plt.yscale(\"log\")\n",
    "# plt.ylim(None, 2)\n",
    "# plt.xscale(\"log\")\n",
    "plt.axhline(0)"
   ]
  },
  {
   "cell_type": "code",
   "execution_count": 39,
   "metadata": {},
   "outputs": [
    {
     "data": {
      "text/plain": [
       "array([1.56502302e-01, 2.89589967e+00, 1.23559186e+01, 3.27162751e+01,\n",
       "       6.81566853e+01, 1.22856865e+02, 2.00996531e+02, 3.06755398e+02,\n",
       "       4.44313184e+02, 6.17849603e+02, 8.31544372e+02, 1.08957721e+03,\n",
       "       1.39612782e+03, 1.75537594e+03, 2.17150127e+03, 2.64868353e+03,\n",
       "       3.19110244e+03, 3.80293770e+03, 4.48836905e+03, 5.25157619e+03,\n",
       "       6.09673884e+03, 7.02803672e+03, 8.04964954e+03, 9.16575702e+03,\n",
       "       1.03805389e+04, 1.16981748e+04, 1.31228446e+04, 1.46587279e+04,\n",
       "       1.63100044e+04, 1.80808538e+04, 1.99754560e+04, 2.19979905e+04,\n",
       "       2.41526371e+04, 2.64435756e+04, 2.88749856e+04, 3.14510468e+04,\n",
       "       3.41759390e+04, 3.70538419e+04, 4.00889352e+04, 4.32853986e+04,\n",
       "       4.66474118e+04, 5.01791546e+04, 5.38848066e+04, 5.77685477e+04,\n",
       "       6.18345574e+04, 6.60870155e+04, 7.05301018e+04, 7.51679959e+04,\n",
       "       8.00048775e+04, 8.50449265e+04, 9.02923224e+04, 9.57512451e+04,\n",
       "       1.01425874e+05, 1.07320389e+05, 1.13438970e+05, 1.19785797e+05,\n",
       "       1.26365049e+05, 1.33180906e+05, 1.40237548e+05, 1.47539154e+05,\n",
       "       1.55089904e+05, 1.62893978e+05, 1.70955556e+05, 1.79278817e+05,\n",
       "       1.87867941e+05, 1.96727107e+05, 2.05860497e+05, 2.15272288e+05,\n",
       "       2.24966661e+05, 2.34947796e+05, 2.45219872e+05, 2.55787069e+05,\n",
       "       2.66653567e+05, 2.77823546e+05, 2.89301184e+05, 3.01090663e+05,\n",
       "       3.13196161e+05, 3.25621858e+05, 3.38371934e+05, 3.51450570e+05,\n",
       "       3.64861943e+05, 3.78610235e+05, 3.92699625e+05, 4.07134292e+05,\n",
       "       4.21918417e+05, 4.37056179e+05, 4.52551757e+05, 4.68409332e+05,\n",
       "       4.84633084e+05, 5.01227191e+05, 5.18195834e+05, 5.35543192e+05,\n",
       "       5.53273445e+05, 5.71390773e+05, 5.89899355e+05, 6.08803372e+05,\n",
       "       6.28107003e+05, 6.47814427e+05, 6.67929825e+05, 6.88457375e+05])"
      ]
     },
     "execution_count": 39,
     "metadata": {},
     "output_type": "execute_result"
    }
   ],
   "source": [
    "# (correlation_estimator/normalization**2).min()\n",
    "# correlation_estimator/normalization**\n",
    "normalization"
   ]
  },
  {
   "cell_type": "code",
   "execution_count": 507,
   "metadata": {},
   "outputs": [],
   "source": [
    "# stats.describe(pairs) "
   ]
  },
  {
   "cell_type": "code",
   "execution_count": 506,
   "metadata": {},
   "outputs": [],
   "source": [
    "# plt.hist(pairs, bins=50)\n",
    "# plt.xlabel(\"Distance (Mpc)\")"
   ]
  },
  {
   "cell_type": "markdown",
   "metadata": {},
   "source": [
    "# Power spectrum of the data\n",
    "\n",
    "This is not a measure of correlation"
   ]
  },
  {
   "cell_type": "code",
   "execution_count": 240,
   "metadata": {},
   "outputs": [
    {
     "data": {
      "text/plain": [
       "4818"
      ]
     },
     "execution_count": 240,
     "metadata": {},
     "output_type": "execute_result"
    }
   ],
   "source": [
    "# make a k-space grid. The complexity of the fourier transform is size(k-space) * size(real-space)\n",
    "len(_data)"
   ]
  },
  {
   "cell_type": "code",
   "execution_count": 241,
   "metadata": {},
   "outputs": [],
   "source": [
    "N_k = 10000\n",
    "k = np.logspace(-4, 1, int(N_k**(1/3)))\n",
    "k_xx, k_yy, k_zz = np.meshgrid(k, k, k)\n",
    "k_space = np.column_stack([k_xx.flatten(), k_yy.flatten(), k_zz.flatten()])"
   ]
  },
  {
   "cell_type": "code",
   "execution_count": 242,
   "metadata": {},
   "outputs": [],
   "source": [
    "# fourier transform of the data\n",
    "delta_k = np.exp(1j * np.einsum(\"ij, kj -> ik\", k_space, position)).mean(axis=1)"
   ]
  },
  {
   "cell_type": "code",
   "execution_count": 266,
   "metadata": {},
   "outputs": [],
   "source": [
    "# to get the power spectra, we sum the delta over k-shells\n",
    "k_mag = np.einsum(\"ij, ij -> i\", k_space, k_space)**(1/2)\n",
    "delta_shell = 0.0001\n",
    "# k_shell = np.arange(0.0001, 1, delta_shell)\n",
    "k_shell = np.logspace(-4, 1, 10_000)\n",
    "power_spectra = np.zeros(k_shell.size, dtype=np.complex)\n",
    "shell_index = np.zeros(k_mag.size)\n",
    "for i, shell in enumerate(k_shell[:-1]):\n",
    "    V_shell = 0.5 * np.pi * shell**2 * k_shell[i + 1] # we are sampling 1/8 of the sphere\n",
    "    selection = (k_mag >= shell) & (k_mag < shell + k_shell[i + 1])\n",
    "    power_spectra[i] = delta_k[selection].sum() / V_shell\n",
    "    shell_index[selection] = i"
   ]
  },
  {
   "cell_type": "code",
   "execution_count": 354,
   "metadata": {},
   "outputs": [
    {
     "data": {
      "text/plain": [
       "Text(0.5, 0, '$k$ [Mpc$^{-1}$]')"
      ]
     },
     "execution_count": 354,
     "metadata": {},
     "output_type": "execute_result"
    },
    {
     "data": {
      "image/png": "[encoded data removed]",
      "text/plain": [
       "<Figure size 432x288 with 1 Axes>"
      ]
     },
     "metadata": {
      "needs_background": "light"
     },
     "output_type": "display_data"
    }
   ],
   "source": [
    "# remove the artificial zeros in the power spectra\n",
    "valid = np.abs(power_spectra) != 0\n",
    "k_valid = k_shell[valid]\n",
    "p = np.abs(power_spectra)[valid]\n",
    "plt.plot(k_shell[valid], np.abs(power_spectra)[valid])\n",
    "plt.yscale(\"log\")\n",
    "plt.xscale(\"log\")\n",
    "plt.ylabel(r\"$P(k)$\")\n",
    "plt.xlabel(r\"$k$ [Mpc$^{-1}$]\")"
   ]
  },
  {
   "cell_type": "code",
   "execution_count": 355,
   "metadata": {},
   "outputs": [],
   "source": [
    "def power_spectrum_model(k, A, lambda_0, n):\n",
    "    return A * k**n #* np.exp(- lambda_0 * k)\n",
    "\n",
    "def log_likelihood(x):\n",
    "    p_hat = power_spectrum_model(k_valid, *x)\n",
    "    return np.mean((p_hat - p)**2 / 0.01 / p**2)\n",
    "\n",
    "guess = [1000, 200, 0]\n",
    "\n",
    "bounds = [(0.01, 1000), (-0.001, 500), (-3, 2)]\n",
    "opt = minimize(log_likelihood, method=\"L-BFGS-B\", x0=guess, bounds=bounds)"
   ]
  },
  {
   "cell_type": "code",
   "execution_count": 356,
   "metadata": {},
   "outputs": [
    {
     "data": {
      "text/plain": [
       "      fun: 79.09767365234435\n",
       " hess_inv: <3x3 LbfgsInvHessProduct with dtype=float64>\n",
       "      jac: array([2.84217094e-06, 0.00000000e+00, 4.10150323e+01])\n",
       "  message: b'CONVERGENCE: NORM_OF_PROJECTED_GRADIENT_<=_PGTOL'\n",
       "     nfev: 44\n",
       "      nit: 3\n",
       "     njev: 11\n",
       "   status: 0\n",
       "  success: True\n",
       "        x: array([  0.31057318, 200.        ,  -3.        ])"
      ]
     },
     "execution_count": 356,
     "metadata": {},
     "output_type": "execute_result"
    }
   ],
   "source": [
    "opt"
   ]
  },
  {
   "cell_type": "code",
   "execution_count": 341,
   "metadata": {},
   "outputs": [
    {
     "data": {
      "text/plain": [
       "0.0"
      ]
     },
     "execution_count": 341,
     "metadata": {},
     "output_type": "execute_result"
    }
   ],
   "source": [
    "power_spectrum_model(k_valid, *opt.x).min()"
   ]
  },
  {
   "cell_type": "markdown",
   "metadata": {},
   "source": [
    "# Count in sphere"
   ]
  },
  {
   "cell_type": "code",
   "execution_count": null,
   "metadata": {},
   "outputs": [],
   "source": [
    "# random catalogue\n",
    "N_u = 1000"
   ]
  }
 ],
 "metadata": {
  "kernelspec": {
   "display_name": "Python 3",
   "language": "python",
   "name": "python3"
  },
  "language_info": {
   "codemirror_mode": {
    "name": "ipython",
    "version": 3
   },
   "file_extension": ".py",
   "mimetype": "text/x-python",
   "name": "python",
   "nbconvert_exporter": "python",
   "pygments_lexer": "ipython3",
   "version": "3.8.5"
  }
 },
 "nbformat": 4,
 "nbformat_minor": 4
}
